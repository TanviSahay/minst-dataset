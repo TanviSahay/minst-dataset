{
 "cells": [
  {
   "cell_type": "code",
   "execution_count": 1,
   "metadata": {
    "collapsed": true
   },
   "outputs": [],
   "source": [
    "import numpy as np\n",
    "import pandas as pd\n",
    "import matplotlib.pyplot as plt\n",
    "import seaborn\n",
    "\n",
    "import minst.model\n",
    "import minst.taxonomy\n",
    "\n",
    "%matplotlib inline\n",
    "seaborn.set()"
   ]
  },
  {
   "cell_type": "code",
   "execution_count": 2,
   "metadata": {
    "collapsed": false
   },
   "outputs": [
    {
     "data": {
      "text/html": [
       "<div>\n",
       "<table border=\"1\" class=\"dataframe\">\n",
       "  <thead>\n",
       "    <tr style=\"text-align: right;\">\n",
       "      <th></th>\n",
       "      <th>audio_file</th>\n",
       "      <th>dataset</th>\n",
       "      <th>duration</th>\n",
       "      <th>dynamic</th>\n",
       "      <th>instrument</th>\n",
       "      <th>note_number</th>\n",
       "      <th>partition</th>\n",
       "      <th>source_index</th>\n",
       "      <th>start_time</th>\n",
       "    </tr>\n",
       "  </thead>\n",
       "  <tbody>\n",
       "    <tr>\n",
       "      <th>092CGAFMd06f21</th>\n",
       "      <td>092CGAFM_13.flac</td>\n",
       "      <td>rwc</td>\n",
       "      <td>4.816327</td>\n",
       "      <td>M</td>\n",
       "      <td>guitar</td>\n",
       "      <td>NaN</td>\n",
       "      <td>NaN</td>\n",
       "      <td>rwcf6a6e74f</td>\n",
       "      <td>71.137642</td>\n",
       "    </tr>\n",
       "    <tr>\n",
       "      <th>181CBPCFd2017b</th>\n",
       "      <td>181CBPCF_16.flac</td>\n",
       "      <td>rwc</td>\n",
       "      <td>5.469388</td>\n",
       "      <td>F</td>\n",
       "      <td>double-bass</td>\n",
       "      <td>NaN</td>\n",
       "      <td>NaN</td>\n",
       "      <td>rwc83f26c00</td>\n",
       "      <td>80.443311</td>\n",
       "    </tr>\n",
       "    <tr>\n",
       "      <th>173VCNVM93f0dc</th>\n",
       "      <td>173VCNVM_45.flac</td>\n",
       "      <td>rwc</td>\n",
       "      <td>3.950113</td>\n",
       "      <td>M</td>\n",
       "      <td>cello</td>\n",
       "      <td>NaN</td>\n",
       "      <td>NaN</td>\n",
       "      <td>rwc0a193b22</td>\n",
       "      <td>190.457143</td>\n",
       "    </tr>\n",
       "    <tr>\n",
       "      <th>221TBC1P57114c</th>\n",
       "      <td>221TBC1P_19.flac</td>\n",
       "      <td>rwc</td>\n",
       "      <td>3.519274</td>\n",
       "      <td>P</td>\n",
       "      <td>trombone</td>\n",
       "      <td>NaN</td>\n",
       "      <td>NaN</td>\n",
       "      <td>rwc81799527</td>\n",
       "      <td>67.568254</td>\n",
       "    </tr>\n",
       "    <tr>\n",
       "      <th>211TRW3P0a1368</th>\n",
       "      <td>211TRW3P_0.flac</td>\n",
       "      <td>rwc</td>\n",
       "      <td>3.600907</td>\n",
       "      <td>P</td>\n",
       "      <td>trumpet</td>\n",
       "      <td>NaN</td>\n",
       "      <td>NaN</td>\n",
       "      <td>rwcae809d4c</td>\n",
       "      <td>0.048980</td>\n",
       "    </tr>\n",
       "  </tbody>\n",
       "</table>\n",
       "</div>"
      ],
      "text/plain": [
       "                      audio_file dataset  duration dynamic   instrument  \\\n",
       "092CGAFMd06f21  092CGAFM_13.flac     rwc  4.816327       M       guitar   \n",
       "181CBPCFd2017b  181CBPCF_16.flac     rwc  5.469388       F  double-bass   \n",
       "173VCNVM93f0dc  173VCNVM_45.flac     rwc  3.950113       M        cello   \n",
       "221TBC1P57114c  221TBC1P_19.flac     rwc  3.519274       P     trombone   \n",
       "211TRW3P0a1368   211TRW3P_0.flac     rwc  3.600907       P      trumpet   \n",
       "\n",
       "                note_number  partition source_index  start_time  \n",
       "092CGAFMd06f21          NaN        NaN  rwcf6a6e74f   71.137642  \n",
       "181CBPCFd2017b          NaN        NaN  rwc83f26c00   80.443311  \n",
       "173VCNVM93f0dc          NaN        NaN  rwc0a193b22  190.457143  \n",
       "221TBC1P57114c          NaN        NaN  rwc81799527   67.568254  \n",
       "211TRW3P0a1368          NaN        NaN  rwcae809d4c    0.048980  "
      ]
     },
     "execution_count": 2,
     "metadata": {},
     "output_type": "execute_result"
    }
   ],
   "source": [
    "dframe = pd.read_csv(\"/Users/ejhumphrey/data/minst/master_index.csv\", index_col=0)\n",
    "dframe = minst.taxonomy.normalize_instrument_names(dframe)\n",
    "dframe.sample(5)"
   ]
  },
  {
   "cell_type": "code",
   "execution_count": 9,
   "metadata": {
    "collapsed": false
   },
   "outputs": [],
   "source": [
    "uiowa = dframe[dframe.dataset == 'uiowa']\n",
    "rwc = dframe[dframe.dataset == 'rwc']\n",
    "philz = dframe[dframe.dataset == 'philharmonia']"
   ]
  },
  {
   "cell_type": "code",
   "execution_count": 12,
   "metadata": {
    "collapsed": false
   },
   "outputs": [
    {
     "name": "stdout",
     "output_type": "stream",
     "text": [
      "('philharmonia', 7923)\n",
      "('rwc', 27557)\n",
      "('uiowa', 3417)\n"
     ]
    },
    {
     "data": {
      "text/plain": [
       "<matplotlib.legend.Legend at 0x119328c10>"
      ]
     },
     "execution_count": 12,
     "metadata": {},
     "output_type": "execute_result"
    },
    {
     "data": {
      "image/png": "[encoded data removed]",
      "text/plain": [
       "<matplotlib.figure.Figure at 0x11ae75910>"
      ]
     },
     "metadata": {},
     "output_type": "display_data"
    }
   ],
   "source": [
    "fig, ax = plt.subplots(figsize=(14, 4))\n",
    "instruments = sorted(dframe.instrument.unique())\n",
    "\n",
    "x_axis = np.arange(len(instruments))\n",
    "datasets = sorted(dframe.dataset.unique())\n",
    "width = 1. / (len(datasets) + 1)\n",
    "colors = seaborn.color_palette()\n",
    "for n, (dset, c) in enumerate(zip(datasets, colors)):\n",
    "    dset_df = dframe[dframe.dataset == dset]\n",
    "    print(dset, len(dset_df))\n",
    "    counts = dset_df.groupby([\"instrument\"])\n",
    "    ax.bar(x_axis + n * width, counts.instrument.count().values, \n",
    "           width=width, label=dset, fc=c)\n",
    "\n",
    "ax.set_xticks(x_axis + 0.4)\n",
    "ax.set_xticklabels(instruments, rotation=20);\n",
    "ax.set_xlabel(\"Instrument Class\")\n",
    "ax.set_ylabel(\"Counts\")\n",
    "ax.set_title(\"Note Observation Counts\")\n",
    "plt.legend(loc='best')"
   ]
  },
  {
   "cell_type": "code",
   "execution_count": 21,
   "metadata": {
    "collapsed": false
   },
   "outputs": [],
   "source": []
  },
  {
   "cell_type": "code",
   "execution_count": null,
   "metadata": {
    "collapsed": false
   },
   "outputs": [],
   "source": []
  },
  {
   "cell_type": "code",
   "execution_count": null,
   "metadata": {
    "collapsed": true
   },
   "outputs": [],
   "source": []
  }
 ],
 "metadata": {
  "kernelspec": {
   "display_name": "Python 2",
   "language": "python",
   "name": "python2"
  },
  "language_info": {
   "codemirror_mode": {
    "name": "ipython",
    "version": 2
   },
   "file_extension": ".py",
   "mimetype": "text/x-python",
   "name": "python",
   "nbconvert_exporter": "python",
   "pygments_lexer": "ipython2",
   "version": "2.7.11"
  }
 },
 "nbformat": 4,
 "nbformat_minor": 0
}
