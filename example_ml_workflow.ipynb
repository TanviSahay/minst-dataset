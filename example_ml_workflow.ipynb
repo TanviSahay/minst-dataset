{
 "cells": [
  {
   "cell_type": "markdown",
   "metadata": {},
   "source": [
    "# Example ML Workflow for Working with MINST"
   ]
  },
  {
   "cell_type": "code",
   "execution_count": 74,
   "metadata": {
    "collapsed": false
   },
   "outputs": [
    {
     "name": "stdout",
     "output_type": "stream",
     "text": [
      "Data Summary\n",
      "rwc             52\n",
      "philharmonia    48\n",
      "Name: dataset, dtype: int64\n",
      "guitar         12\n",
      "violin          8\n",
      "clarinet        8\n",
      "double-bass     8\n",
      "flute           8\n",
      "tuba            8\n",
      "cello           8\n",
      "trumpet         8\n",
      "trombone        8\n",
      "bassoon         8\n",
      "oboe            8\n",
      "horn-french     8\n",
      "Name: instrument, dtype: int64\n"
     ]
    }
   ],
   "source": [
    "import pandas as pd\n",
    "import os\n",
    "import librosa\n",
    "\n",
    "import minst.taxonomy\n",
    "\n",
    "# Access the example notes using the notes_df\n",
    "DATA_DIR = \"./data/notes\"\n",
    "NOTES_CSV = os.path.join(DATA_DIR, \"notes_index.csv\")\n",
    "notes_df = pd.read_csv(NOTES_CSV, index_col=0)\n",
    "\n",
    "# Set the note_file path to the actual path\n",
    "def note_fp(filename):\n",
    "    return os.path.join(DATA_DIR, filename)\n",
    "notes_df[\"note_file\"] = notes_df[\"note_file\"].map(note_fp)\n",
    "\n",
    "# Use the taxonomy to drop any instruments that we don't care about.\n",
    "notes_df = minst.taxonomy.normalize_instrument_names(notes_df).dropna()\n",
    "print(\"Data Summary\")\n",
    "print(notes_df[\"dataset\"].value_counts())\n",
    "print(notes_df[\"instrument\"].value_counts())"
   ]
  },
  {
   "cell_type": "code",
   "execution_count": 76,
   "metadata": {
    "collapsed": false
   },
   "outputs": [
    {
     "data": {
      "text/plain": [
       "(1, 13)"
      ]
     },
     "execution_count": 76,
     "metadata": {},
     "output_type": "execute_result"
    }
   ],
   "source": [
    "def load_mfccs_from_audio(note_file):\n",
    "    y, sr = librosa.load(note_file)\n",
    "    mfcc = librosa.feature.mfcc(y=y, sr=sr, n_mfcc=13).T\n",
    "    # Arbitrarily averget over this now.\n",
    "    return mfcc.mean(axis=0)[np.newaxis, :]\n",
    "\n",
    "# This is going to take a minute...\n",
    "mfccs = [load_mfccs_from_audio(x) for x in notes_df[\"note_file\"]]\n",
    "\n",
    "# put it in the dataframe for easy grabbing later\n",
    "notes_df['mfcc'] = mfccs\n",
    "notes_df.iloc[0]['mfcc'].shape"
   ]
  },
  {
   "cell_type": "code",
   "execution_count": 77,
   "metadata": {
    "collapsed": false
   },
   "outputs": [
    {
     "name": "stdout",
     "output_type": "stream",
     "text": [
      "(100, 13) (100,)\n",
      "(75, 13) (75,) (25, 13) (25,)\n"
     ]
    }
   ],
   "source": [
    "# Convert the labels\n",
    "import numpy as np\n",
    "import sklearn.cross_validation\n",
    "import sklearn.preprocessing\n",
    "enc = sklearn.preprocessing.LabelEncoder()\n",
    "targets = enc.fit_transform(notes_df[\"instrument\"])\n",
    "notes_df['target'] = targets\n",
    "notes_df['target']\n",
    "\n",
    "# Make some nice SKLearn-style data\n",
    "X = np.concatenate(notes_df[\"mfcc\"])\n",
    "y = np.concatenate(notes_df[\"target\"].map(np.atleast_1d))\n",
    "print(X.shape, y.shape)\n",
    "\n",
    "# Split it into train and test\n",
    "X_train, X_test, y_train, y_test = sklearn.cross_validation.train_test_split(X, y)\n",
    "print(X_train.shape, y_train.shape, X_test.shape, y_test.shape)"
   ]
  },
  {
   "cell_type": "code",
   "execution_count": 78,
   "metadata": {
    "collapsed": false
   },
   "outputs": [
    {
     "name": "stdout",
     "output_type": "stream",
     "text": [
      "             precision    recall  f1-score   support\n",
      "\n",
      "          0       0.00      0.00      0.00         2\n",
      "          1       0.50      0.50      0.50         2\n",
      "          2       0.00      0.00      0.00         1\n",
      "          3       1.00      0.25      0.40         4\n",
      "          4       0.50      0.50      0.50         2\n",
      "          5       0.33      1.00      0.50         1\n",
      "          6       0.00      0.00      0.00         2\n",
      "          7       0.67      1.00      0.80         2\n",
      "          8       0.40      0.67      0.50         3\n",
      "          9       0.00      0.00      0.00         2\n",
      "         10       0.67      0.67      0.67         3\n",
      "         11       0.50      1.00      0.67         1\n",
      "\n",
      "avg / total       0.45      0.44      0.39        25\n",
      "\n"
     ]
    },
    {
     "name": "stderr",
     "output_type": "stream",
     "text": [
      "/usr/local/lib/python3.5/site-packages/sklearn/metrics/classification.py:1074: UndefinedMetricWarning: Precision and F-score are ill-defined and being set to 0.0 in labels with no predicted samples.\n",
      "  'precision', 'predicted', average, warn_for)\n"
     ]
    }
   ],
   "source": [
    "%matplotlib inline\n",
    "import matplotlib.pyplot as plt\n",
    "from sklearn.ensemble import RandomForestClassifier\n",
    "import sklearn.metrics\n",
    "clf = RandomForestClassifier(n_estimators=100)\n",
    "clf.fit(X_train, y_train)\n",
    "\n",
    "y_pred = clf.predict(X_test)\n",
    "print(sklearn.metrics.classification_report(y_test, y_pred))"
   ]
  },
  {
   "cell_type": "code",
   "execution_count": null,
   "metadata": {
    "collapsed": true
   },
   "outputs": [],
   "source": []
  }
 ],
 "metadata": {
  "kernelspec": {
   "display_name": "Python 3",
   "language": "python",
   "name": "python3"
  },
  "language_info": {
   "codemirror_mode": {
    "name": "ipython",
    "version": 3
   },
   "file_extension": ".py",
   "mimetype": "text/x-python",
   "name": "python",
   "nbconvert_exporter": "python",
   "pygments_lexer": "ipython3",
   "version": "3.5.0"
  }
 },
 "nbformat": 4,
 "nbformat_minor": 0
}
